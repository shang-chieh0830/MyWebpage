{
  "cells": [
    {
      "cell_type": "markdown",
      "metadata": {
        "id": "view-in-github",
        "colab_type": "text"
      },
      "source": [
        "<a href=\"https://colab.research.google.com/github/shang-chieh0830/MyWebpage/blob/main/Greg_Hunt/lab1_introduction.ipynb\" target=\"_parent\"><img src=\"https://colab.research.google.com/assets/colab-badge.svg\" alt=\"Open In Colab\"/></a>"
      ]
    },
    {
      "cell_type": "markdown",
      "metadata": {
        "id": "526Rz-SjSS7M"
      },
      "source": [
        "# Lab 1\n",
        "\n",
        "This is loosely based on notes by Dr. Leemis: [here](http://www.math.wm.edu/~leemis/r.pdf). If you're not familiar with `r` I highly recommend you go through this. "
      ]
    },
    {
      "cell_type": "markdown",
      "metadata": {
        "id": "DY8E9f8vSS7P"
      },
      "source": [
        "## Notebook basics"
      ]
    },
    {
      "cell_type": "markdown",
      "metadata": {
        "id": "vvajiKUESS7Q"
      },
      "source": [
        "Code notebooks allow interweaving of \n",
        "\n",
        "1. rich-text input (html, markdown, etc.)\n",
        "2. code input\n",
        "3. code output"
      ]
    },
    {
      "cell_type": "code",
      "execution_count": null,
      "metadata": {
        "colab": {
          "base_uri": "https://localhost:8080/"
        },
        "id": "CN6CgAfpSS7R",
        "outputId": "a06a1688-6c37-4de1-c00d-05eb294753a8"
      },
      "outputs": [
        {
          "output_type": "stream",
          "name": "stdout",
          "text": [
            "[1] \"hello darkness my old friend\"\n"
          ]
        }
      ],
      "source": [
        "print('hello darkness my old friend')"
      ]
    },
    {
      "cell_type": "markdown",
      "metadata": {
        "id": "JjuFpQ4RSS7T"
      },
      "source": [
        "![sound of silence](https://upload.wikimedia.org/wikipedia/commons/e/e5/SimonandGarfunkel.jpg)"
      ]
    },
    {
      "cell_type": "markdown",
      "metadata": {
        "id": "7oq_1r1sSS7U"
      },
      "source": [
        "We can write notebooks using a couple different IDEs, popular being \n",
        "\n",
        "1. [jupyter](https://jupyter.org/install) which is a bit more advanced and requires installing [anaconda](https://www.anaconda.com/)\n",
        "\n",
        "2. [rstudio](https://rstudio.com/products/rstudio/)\n",
        "\n",
        "either can be used to write code in [R](https://www.r-project.org/)"
      ]
    },
    {
      "cell_type": "markdown",
      "metadata": {
        "id": "LSRURPr2SS7W"
      },
      "source": [
        "## R as a calculator"
      ]
    },
    {
      "cell_type": "markdown",
      "metadata": {
        "id": "jelmnfg-SS7X"
      },
      "source": [
        "We can use R as a calculator"
      ]
    },
    {
      "cell_type": "code",
      "execution_count": null,
      "metadata": {
        "colab": {
          "base_uri": "https://localhost:8080/",
          "height": 34
        },
        "id": "h2VCyRJBSS7Y",
        "outputId": "694eca91-3085-47ba-b34e-3a1fda5aa2f8"
      },
      "outputs": [
        {
          "output_type": "display_data",
          "data": {
            "text/html": [
              "2"
            ],
            "text/markdown": "2",
            "text/latex": "2",
            "text/plain": [
              "[1] 2"
            ]
          },
          "metadata": {}
        }
      ],
      "source": [
        "1+1"
      ]
    },
    {
      "cell_type": "code",
      "execution_count": null,
      "metadata": {
        "colab": {
          "base_uri": "https://localhost:8080/",
          "height": 34
        },
        "id": "RZILcIiBSS7Z",
        "outputId": "8f86ffd8-4043-4241-e935-320d139f742e"
      },
      "outputs": [
        {
          "output_type": "display_data",
          "data": {
            "text/html": [
              "11"
            ],
            "text/markdown": "11",
            "text/latex": "11",
            "text/plain": [
              "[1] 11"
            ]
          },
          "metadata": {}
        }
      ],
      "source": [
        "1+2*5"
      ]
    },
    {
      "cell_type": "markdown",
      "metadata": {
        "id": "tnqLUJZvSS7a"
      },
      "source": [
        "there are also some built-in constants in R"
      ]
    },
    {
      "cell_type": "code",
      "execution_count": null,
      "metadata": {
        "colab": {
          "base_uri": "https://localhost:8080/",
          "height": 52
        },
        "id": "MLGt1h-SSS7b",
        "outputId": "4d82ee92-d167-42fa-d8ff-b7f4489e0fde"
      },
      "outputs": [
        {
          "output_type": "display_data",
          "data": {
            "text/html": [
              "3.14159265358979"
            ],
            "text/markdown": "3.14159265358979",
            "text/latex": "3.14159265358979",
            "text/plain": [
              "[1] 3.141593"
            ]
          },
          "metadata": {}
        },
        {
          "output_type": "display_data",
          "data": {
            "text/html": [
              "2.71828182845905"
            ],
            "text/markdown": "2.71828182845905",
            "text/latex": "2.71828182845905",
            "text/plain": [
              "[1] 2.718282"
            ]
          },
          "metadata": {}
        }
      ],
      "source": [
        "pi\n",
        "exp(1)"
      ]
    },
    {
      "cell_type": "markdown",
      "metadata": {
        "id": "nt8UcH-xSS7c"
      },
      "source": [
        "there are also special infinite values"
      ]
    },
    {
      "cell_type": "code",
      "execution_count": null,
      "metadata": {
        "colab": {
          "base_uri": "https://localhost:8080/",
          "height": 52
        },
        "id": "2voja10BSS7d",
        "outputId": "a0115251-7047-4741-8776-89d2a1c4fa37"
      },
      "outputs": [
        {
          "output_type": "display_data",
          "data": {
            "text/html": [
              "Inf"
            ],
            "text/markdown": "Inf",
            "text/latex": "Inf",
            "text/plain": [
              "[1] Inf"
            ]
          },
          "metadata": {}
        },
        {
          "output_type": "display_data",
          "data": {
            "text/html": [
              "-Inf"
            ],
            "text/markdown": "-Inf",
            "text/latex": "-Inf",
            "text/plain": [
              "[1] -Inf"
            ]
          },
          "metadata": {}
        }
      ],
      "source": [
        "1/0\n",
        "-1/0"
      ]
    },
    {
      "cell_type": "code",
      "execution_count": null,
      "metadata": {
        "colab": {
          "base_uri": "https://localhost:8080/",
          "height": 34
        },
        "id": "_Zzi2oU4SS7d",
        "outputId": "458d5f9a-b4ed-4f3d-b2b6-18e5ea132e61"
      },
      "outputs": [
        {
          "output_type": "display_data",
          "data": {
            "text/html": [
              "NaN"
            ],
            "text/markdown": "NaN",
            "text/latex": "NaN",
            "text/plain": [
              "[1] NaN"
            ]
          },
          "metadata": {}
        }
      ],
      "source": [
        "0/0"
      ]
    },
    {
      "cell_type": "markdown",
      "metadata": {
        "id": "5ZfXhpYvSS7e"
      },
      "source": [
        "to denote nothing we have"
      ]
    },
    {
      "cell_type": "code",
      "execution_count": null,
      "metadata": {
        "colab": {
          "base_uri": "https://localhost:8080/",
          "height": 34
        },
        "id": "PkSSiBu0SS7e",
        "outputId": "4736baed-9b34-47f4-deb8-0d3e3a7a1130"
      },
      "outputs": [
        {
          "output_type": "display_data",
          "data": {
            "text/plain": [
              "NULL"
            ]
          },
          "metadata": {}
        }
      ],
      "source": [
        "NULL"
      ]
    },
    {
      "cell_type": "markdown",
      "metadata": {
        "id": "AbEMItbxSS7f"
      },
      "source": [
        "to denote a missing value"
      ]
    },
    {
      "cell_type": "code",
      "execution_count": null,
      "metadata": {
        "colab": {
          "base_uri": "https://localhost:8080/",
          "height": 34
        },
        "id": "HNhp02tnSS7f",
        "outputId": "c2447e28-2e97-4b47-8d47-87ae331362ae"
      },
      "outputs": [
        {
          "output_type": "display_data",
          "data": {
            "text/html": [
              "&lt;NA&gt;"
            ],
            "text/markdown": "&lt;NA&gt;",
            "text/latex": "<NA>",
            "text/plain": [
              "[1] NA"
            ]
          },
          "metadata": {}
        }
      ],
      "source": [
        "NA"
      ]
    },
    {
      "cell_type": "markdown",
      "metadata": {
        "id": "iPegy0i8SS7g"
      },
      "source": [
        "# Variable assignment and simple objects"
      ]
    },
    {
      "cell_type": "markdown",
      "metadata": {
        "id": "suE8UVG6SS7g"
      },
      "source": [
        "One can assign variables with either an `=` or `<-`"
      ]
    },
    {
      "cell_type": "code",
      "execution_count": null,
      "metadata": {
        "colab": {
          "base_uri": "https://localhost:8080/",
          "height": 34
        },
        "id": "IVrzSa19SS7h",
        "outputId": "e6d67894-04a7-4ebd-bf14-d8c204219105"
      },
      "outputs": [
        {
          "output_type": "display_data",
          "data": {
            "text/html": [
              "1"
            ],
            "text/markdown": "1",
            "text/latex": "1",
            "text/plain": [
              "[1] 1"
            ]
          },
          "metadata": {}
        }
      ],
      "source": [
        "x = 1\n",
        "x"
      ]
    },
    {
      "cell_type": "code",
      "execution_count": null,
      "metadata": {
        "colab": {
          "base_uri": "https://localhost:8080/",
          "height": 34
        },
        "id": "Gw6HW3UpSS7h",
        "outputId": "15a87377-406b-466a-9796-895cb0aaa050"
      },
      "outputs": [
        {
          "output_type": "display_data",
          "data": {
            "text/html": [
              "1"
            ],
            "text/markdown": "1",
            "text/latex": "1",
            "text/plain": [
              "[1] 1"
            ]
          },
          "metadata": {}
        }
      ],
      "source": [
        "x <- 1\n",
        "x"
      ]
    },
    {
      "cell_type": "markdown",
      "metadata": {
        "id": "Q11Rbt8pSS7h"
      },
      "source": [
        "## Vectors"
      ]
    },
    {
      "cell_type": "markdown",
      "metadata": {
        "id": "lxbDn2LLSS7h"
      },
      "source": [
        "vectors are made with the `c` command"
      ]
    },
    {
      "cell_type": "code",
      "execution_count": null,
      "metadata": {
        "colab": {
          "base_uri": "https://localhost:8080/",
          "height": 34
        },
        "id": "rDxbLxFRSS7i",
        "outputId": "7bc42aec-1f70-40a5-c12e-a7f884057372"
      },
      "outputs": [
        {
          "output_type": "display_data",
          "data": {
            "text/html": [
              "<style>\n",
              ".list-inline {list-style: none; margin:0; padding: 0}\n",
              ".list-inline>li {display: inline-block}\n",
              ".list-inline>li:not(:last-child)::after {content: \"\\00b7\"; padding: 0 .5ex}\n",
              "</style>\n",
              "<ol class=list-inline><li>5</li><li>3</li><li>7</li></ol>\n"
            ],
            "text/markdown": "1. 5\n2. 3\n3. 7\n\n\n",
            "text/latex": "\\begin{enumerate*}\n\\item 5\n\\item 3\n\\item 7\n\\end{enumerate*}\n",
            "text/plain": [
              "[1] 5 3 7"
            ]
          },
          "metadata": {}
        }
      ],
      "source": [
        "x = c(5,3,7)\n",
        "x"
      ]
    },
    {
      "cell_type": "markdown",
      "metadata": {
        "id": "t_yYaggvSS7j"
      },
      "source": [
        "we get the elements with `[]`"
      ]
    },
    {
      "cell_type": "code",
      "execution_count": null,
      "metadata": {
        "colab": {
          "base_uri": "https://localhost:8080/",
          "height": 34
        },
        "id": "kRCUNBFISS7j",
        "outputId": "ab636b0c-d17b-4255-ff61-047d43e3f751"
      },
      "outputs": [
        {
          "output_type": "display_data",
          "data": {
            "text/html": [
              "5"
            ],
            "text/markdown": "5",
            "text/latex": "5",
            "text/plain": [
              "[1] 5"
            ]
          },
          "metadata": {}
        }
      ],
      "source": [
        "x[1]"
      ]
    },
    {
      "cell_type": "markdown",
      "metadata": {
        "id": "wnfiTHIXSS7j"
      },
      "source": [
        "negative numbers selects all but those elements"
      ]
    },
    {
      "cell_type": "code",
      "execution_count": null,
      "metadata": {
        "colab": {
          "base_uri": "https://localhost:8080/",
          "height": 34
        },
        "id": "Nipn1cH3SS7j",
        "outputId": "c201a419-2a92-45b7-95eb-b1205681754a"
      },
      "outputs": [
        {
          "output_type": "display_data",
          "data": {
            "text/html": [
              "7"
            ],
            "text/markdown": "7",
            "text/latex": "7",
            "text/plain": [
              "[1] 7"
            ]
          },
          "metadata": {}
        }
      ],
      "source": [
        "x[c(-1,-2)]"
      ]
    },
    {
      "cell_type": "markdown",
      "metadata": {
        "id": "Bd9K8GscSS7k"
      },
      "source": [
        "we can make a vector out of any type"
      ]
    },
    {
      "cell_type": "code",
      "execution_count": null,
      "metadata": {
        "id": "47WX5hqGSS7k",
        "colab": {
          "base_uri": "https://localhost:8080/",
          "height": 34
        },
        "outputId": "9ff896eb-b31e-40fe-f7d3-3336fed1e3fb"
      },
      "outputs": [
        {
          "output_type": "display_data",
          "data": {
            "text/html": [
              "<style>\n",
              ".list-inline {list-style: none; margin:0; padding: 0}\n",
              ".list-inline>li {display: inline-block}\n",
              ".list-inline>li:not(:last-child)::after {content: \"\\00b7\"; padding: 0 .5ex}\n",
              "</style>\n",
              "<ol class=list-inline><li>TRUE</li><li>FALSE</li><li>TRUE</li></ol>\n"
            ],
            "text/markdown": "1. TRUE\n2. FALSE\n3. TRUE\n\n\n",
            "text/latex": "\\begin{enumerate*}\n\\item TRUE\n\\item FALSE\n\\item TRUE\n\\end{enumerate*}\n",
            "text/plain": [
              "[1]  TRUE FALSE  TRUE"
            ]
          },
          "metadata": {}
        }
      ],
      "source": [
        "truths <- c(TRUE, FALSE, TRUE)\n",
        "truths"
      ]
    },
    {
      "cell_type": "markdown",
      "metadata": {
        "id": "ZaObxDvKSS7k"
      },
      "source": [
        "if we subset by boolean then it select those elements with `TRUE`"
      ]
    },
    {
      "cell_type": "code",
      "execution_count": null,
      "metadata": {
        "colab": {
          "base_uri": "https://localhost:8080/",
          "height": 34
        },
        "id": "d9HD7zhqSS7l",
        "outputId": "efb2b9fa-ca5b-4123-9e75-125704886a02"
      },
      "outputs": [
        {
          "output_type": "display_data",
          "data": {
            "text/html": [
              "<style>\n",
              ".list-inline {list-style: none; margin:0; padding: 0}\n",
              ".list-inline>li {display: inline-block}\n",
              ".list-inline>li:not(:last-child)::after {content: \"\\00b7\"; padding: 0 .5ex}\n",
              "</style>\n",
              "<ol class=list-inline><li>5</li><li>3</li><li>7</li></ol>\n"
            ],
            "text/markdown": "1. 5\n2. 3\n3. 7\n\n\n",
            "text/latex": "\\begin{enumerate*}\n\\item 5\n\\item 3\n\\item 7\n\\end{enumerate*}\n",
            "text/plain": [
              "[1] 5 3 7"
            ]
          },
          "metadata": {}
        }
      ],
      "source": [
        "x"
      ]
    },
    {
      "cell_type": "code",
      "execution_count": null,
      "metadata": {
        "colab": {
          "base_uri": "https://localhost:8080/",
          "height": 34
        },
        "id": "F6n7QqIOSS7l",
        "outputId": "565280f0-1d16-4c2d-83ef-e4282ef71b7e"
      },
      "outputs": [
        {
          "output_type": "display_data",
          "data": {
            "text/html": [
              "<style>\n",
              ".list-inline {list-style: none; margin:0; padding: 0}\n",
              ".list-inline>li {display: inline-block}\n",
              ".list-inline>li:not(:last-child)::after {content: \"\\00b7\"; padding: 0 .5ex}\n",
              "</style>\n",
              "<ol class=list-inline><li>TRUE</li><li>FALSE</li><li>TRUE</li></ol>\n"
            ],
            "text/markdown": "1. TRUE\n2. FALSE\n3. TRUE\n\n\n",
            "text/latex": "\\begin{enumerate*}\n\\item TRUE\n\\item FALSE\n\\item TRUE\n\\end{enumerate*}\n",
            "text/plain": [
              "[1]  TRUE FALSE  TRUE"
            ]
          },
          "metadata": {}
        }
      ],
      "source": [
        "truths"
      ]
    },
    {
      "cell_type": "code",
      "execution_count": null,
      "metadata": {
        "colab": {
          "base_uri": "https://localhost:8080/",
          "height": 34
        },
        "id": "aePcOo3tSS7l",
        "outputId": "b1eb9804-010c-4404-caad-846729f20246"
      },
      "outputs": [
        {
          "output_type": "display_data",
          "data": {
            "text/html": [
              "<style>\n",
              ".list-inline {list-style: none; margin:0; padding: 0}\n",
              ".list-inline>li {display: inline-block}\n",
              ".list-inline>li:not(:last-child)::after {content: \"\\00b7\"; padding: 0 .5ex}\n",
              "</style>\n",
              "<ol class=list-inline><li>5</li><li>7</li></ol>\n"
            ],
            "text/markdown": "1. 5\n2. 7\n\n\n",
            "text/latex": "\\begin{enumerate*}\n\\item 5\n\\item 7\n\\end{enumerate*}\n",
            "text/plain": [
              "[1] 5 7"
            ]
          },
          "metadata": {}
        }
      ],
      "source": [
        "x[truths]"
      ]
    },
    {
      "cell_type": "markdown",
      "metadata": {
        "id": "OhnLrsuLSS7m"
      },
      "source": [
        "we can make consecutive integers using `:`"
      ]
    },
    {
      "cell_type": "code",
      "execution_count": null,
      "metadata": {
        "colab": {
          "base_uri": "https://localhost:8080/",
          "height": 34
        },
        "id": "YzeBVy9kSS7m",
        "outputId": "6a18cb46-2185-4295-d075-0420c24bf76f"
      },
      "outputs": [
        {
          "output_type": "display_data",
          "data": {
            "text/html": [
              "<style>\n",
              ".list-inline {list-style: none; margin:0; padding: 0}\n",
              ".list-inline>li {display: inline-block}\n",
              ".list-inline>li:not(:last-child)::after {content: \"\\00b7\"; padding: 0 .5ex}\n",
              "</style>\n",
              "<ol class=list-inline><li>1</li><li>2</li><li>3</li><li>4</li><li>5</li><li>6</li><li>7</li><li>8</li><li>9</li><li>10</li></ol>\n"
            ],
            "text/markdown": "1. 1\n2. 2\n3. 3\n4. 4\n5. 5\n6. 6\n7. 7\n8. 8\n9. 9\n10. 10\n\n\n",
            "text/latex": "\\begin{enumerate*}\n\\item 1\n\\item 2\n\\item 3\n\\item 4\n\\item 5\n\\item 6\n\\item 7\n\\item 8\n\\item 9\n\\item 10\n\\end{enumerate*}\n",
            "text/plain": [
              " [1]  1  2  3  4  5  6  7  8  9 10"
            ]
          },
          "metadata": {}
        }
      ],
      "source": [
        "1:10"
      ]
    },
    {
      "cell_type": "markdown",
      "metadata": {
        "id": "Dogsc50CSS7m"
      },
      "source": [
        "or the `seq` function"
      ]
    },
    {
      "cell_type": "code",
      "execution_count": null,
      "metadata": {
        "colab": {
          "base_uri": "https://localhost:8080/",
          "height": 34
        },
        "id": "cySPKtQYSS7m",
        "outputId": "f8e6b559-c25a-47c7-a9dd-5df9dc989f62"
      },
      "outputs": [
        {
          "output_type": "display_data",
          "data": {
            "text/html": [
              "<style>\n",
              ".list-inline {list-style: none; margin:0; padding: 0}\n",
              ".list-inline>li {display: inline-block}\n",
              ".list-inline>li:not(:last-child)::after {content: \"\\00b7\"; padding: 0 .5ex}\n",
              "</style>\n",
              "<ol class=list-inline><li>1</li><li>4</li><li>7</li><li>10</li><li>13</li><li>16</li><li>19</li></ol>\n"
            ],
            "text/markdown": "1. 1\n2. 4\n3. 7\n4. 10\n5. 13\n6. 16\n7. 19\n\n\n",
            "text/latex": "\\begin{enumerate*}\n\\item 1\n\\item 4\n\\item 7\n\\item 10\n\\item 13\n\\item 16\n\\item 19\n\\end{enumerate*}\n",
            "text/plain": [
              "[1]  1  4  7 10 13 16 19"
            ]
          },
          "metadata": {}
        }
      ],
      "source": [
        "seq(1,20,by=3)"
      ]
    },
    {
      "cell_type": "markdown",
      "metadata": {
        "id": "7TExmVUqSS7n"
      },
      "source": [
        "## matrices"
      ]
    },
    {
      "cell_type": "markdown",
      "metadata": {
        "id": "kTKM7EEZSS7n"
      },
      "source": [
        "we can make a matrix using the ``matrix`` function"
      ]
    },
    {
      "cell_type": "code",
      "execution_count": null,
      "metadata": {
        "colab": {
          "base_uri": "https://localhost:8080/",
          "height": 209
        },
        "id": "z_OzCgz_SS7n",
        "outputId": "de35265a-892d-4b38-943b-5d3230043d2d"
      },
      "outputs": [
        {
          "output_type": "display_data",
          "data": {
            "text/html": [
              "<table class=\"dataframe\">\n",
              "<caption>A matrix: 5 × 5 of type int</caption>\n",
              "<tbody>\n",
              "\t<tr><td> 1</td><td> 2</td><td> 3</td><td> 4</td><td> 5</td></tr>\n",
              "\t<tr><td> 6</td><td> 7</td><td> 8</td><td> 9</td><td>10</td></tr>\n",
              "\t<tr><td>11</td><td>12</td><td>13</td><td>14</td><td>15</td></tr>\n",
              "\t<tr><td>16</td><td>17</td><td>18</td><td>19</td><td>20</td></tr>\n",
              "\t<tr><td>21</td><td>22</td><td>23</td><td>24</td><td>25</td></tr>\n",
              "</tbody>\n",
              "</table>\n"
            ],
            "text/markdown": "\nA matrix: 5 × 5 of type int\n\n|  1 |  2 |  3 |  4 |  5 |\n|  6 |  7 |  8 |  9 | 10 |\n| 11 | 12 | 13 | 14 | 15 |\n| 16 | 17 | 18 | 19 | 20 |\n| 21 | 22 | 23 | 24 | 25 |\n\n",
            "text/latex": "A matrix: 5 × 5 of type int\n\\begin{tabular}{lllll}\n\t  1 &  2 &  3 &  4 &  5\\\\\n\t  6 &  7 &  8 &  9 & 10\\\\\n\t 11 & 12 & 13 & 14 & 15\\\\\n\t 16 & 17 & 18 & 19 & 20\\\\\n\t 21 & 22 & 23 & 24 & 25\\\\\n\\end{tabular}\n",
            "text/plain": [
              "     [,1] [,2] [,3] [,4] [,5]\n",
              "[1,]  1    2    3    4    5  \n",
              "[2,]  6    7    8    9   10  \n",
              "[3,] 11   12   13   14   15  \n",
              "[4,] 16   17   18   19   20  \n",
              "[5,] 21   22   23   24   25  "
            ]
          },
          "metadata": {}
        }
      ],
      "source": [
        "X <- matrix(1:25,nrow=5,byrow=TRUE)\n",
        "X"
      ]
    },
    {
      "cell_type": "markdown",
      "metadata": {
        "id": "eelBrflGSS7n"
      },
      "source": [
        "or the `array` function"
      ]
    },
    {
      "cell_type": "code",
      "execution_count": null,
      "metadata": {
        "colab": {
          "base_uri": "https://localhost:8080/",
          "height": 209
        },
        "id": "7ZK3kBsASS7o",
        "outputId": "43d292f3-d12a-4eff-da88-377860fd1969"
      },
      "outputs": [
        {
          "output_type": "display_data",
          "data": {
            "text/html": [
              "<table class=\"dataframe\">\n",
              "<caption>A matrix: 5 × 5 of type int</caption>\n",
              "<tbody>\n",
              "\t<tr><td>25</td><td>30</td><td>35</td><td>40</td><td>45</td></tr>\n",
              "\t<tr><td>26</td><td>31</td><td>36</td><td>41</td><td>46</td></tr>\n",
              "\t<tr><td>27</td><td>32</td><td>37</td><td>42</td><td>47</td></tr>\n",
              "\t<tr><td>28</td><td>33</td><td>38</td><td>43</td><td>48</td></tr>\n",
              "\t<tr><td>29</td><td>34</td><td>39</td><td>44</td><td>49</td></tr>\n",
              "</tbody>\n",
              "</table>\n"
            ],
            "text/markdown": "\nA matrix: 5 × 5 of type int\n\n| 25 | 30 | 35 | 40 | 45 |\n| 26 | 31 | 36 | 41 | 46 |\n| 27 | 32 | 37 | 42 | 47 |\n| 28 | 33 | 38 | 43 | 48 |\n| 29 | 34 | 39 | 44 | 49 |\n\n",
            "text/latex": "A matrix: 5 × 5 of type int\n\\begin{tabular}{lllll}\n\t 25 & 30 & 35 & 40 & 45\\\\\n\t 26 & 31 & 36 & 41 & 46\\\\\n\t 27 & 32 & 37 & 42 & 47\\\\\n\t 28 & 33 & 38 & 43 & 48\\\\\n\t 29 & 34 & 39 & 44 & 49\\\\\n\\end{tabular}\n",
            "text/plain": [
              "     [,1] [,2] [,3] [,4] [,5]\n",
              "[1,] 25   30   35   40   45  \n",
              "[2,] 26   31   36   41   46  \n",
              "[3,] 27   32   37   42   47  \n",
              "[4,] 28   33   38   43   48  \n",
              "[5,] 29   34   39   44   49  "
            ]
          },
          "metadata": {}
        }
      ],
      "source": [
        "Y <- array(25:49,c(5,5))\n",
        "Y"
      ]
    },
    {
      "cell_type": "markdown",
      "metadata": {
        "id": "swTy8axJSS7o"
      },
      "source": [
        "matrix multiplication is done with the operator ``%*%``"
      ]
    },
    {
      "cell_type": "code",
      "execution_count": null,
      "metadata": {
        "colab": {
          "base_uri": "https://localhost:8080/",
          "height": 191
        },
        "id": "HYovmETFSS7o",
        "outputId": "ae20e2fa-a06a-46b9-e3ec-46c8ebddde14"
      },
      "outputs": [
        {
          "output_type": "display_data",
          "data": {
            "text/html": [
              "<table class=\"dataframe\">\n",
              "<caption>A matrix: 5 × 5 of type dbl</caption>\n",
              "<tbody>\n",
              "\t<tr><td> 415</td><td> 490</td><td> 565</td><td> 640</td><td> 715</td></tr>\n",
              "\t<tr><td>1090</td><td>1290</td><td>1490</td><td>1690</td><td>1890</td></tr>\n",
              "\t<tr><td>1765</td><td>2090</td><td>2415</td><td>2740</td><td>3065</td></tr>\n",
              "\t<tr><td>2440</td><td>2890</td><td>3340</td><td>3790</td><td>4240</td></tr>\n",
              "\t<tr><td>3115</td><td>3690</td><td>4265</td><td>4840</td><td>5415</td></tr>\n",
              "</tbody>\n",
              "</table>\n"
            ],
            "text/markdown": "\nA matrix: 5 × 5 of type dbl\n\n|  415 |  490 |  565 |  640 |  715 |\n| 1090 | 1290 | 1490 | 1690 | 1890 |\n| 1765 | 2090 | 2415 | 2740 | 3065 |\n| 2440 | 2890 | 3340 | 3790 | 4240 |\n| 3115 | 3690 | 4265 | 4840 | 5415 |\n\n",
            "text/latex": "A matrix: 5 × 5 of type dbl\n\\begin{tabular}{lllll}\n\t  415 &  490 &  565 &  640 &  715\\\\\n\t 1090 & 1290 & 1490 & 1690 & 1890\\\\\n\t 1765 & 2090 & 2415 & 2740 & 3065\\\\\n\t 2440 & 2890 & 3340 & 3790 & 4240\\\\\n\t 3115 & 3690 & 4265 & 4840 & 5415\\\\\n\\end{tabular}\n",
            "text/plain": [
              "     [,1] [,2] [,3] [,4] [,5]\n",
              "[1,]  415  490  565  640  715\n",
              "[2,] 1090 1290 1490 1690 1890\n",
              "[3,] 1765 2090 2415 2740 3065\n",
              "[4,] 2440 2890 3340 3790 4240\n",
              "[5,] 3115 3690 4265 4840 5415"
            ]
          },
          "metadata": {}
        }
      ],
      "source": [
        "X %*% Y"
      ]
    },
    {
      "cell_type": "markdown",
      "metadata": {
        "id": "OpDPkMneSS7o"
      },
      "source": [
        "I can extract or assign individual elements with `[,]`"
      ]
    },
    {
      "cell_type": "code",
      "execution_count": null,
      "metadata": {
        "colab": {
          "base_uri": "https://localhost:8080/",
          "height": 34
        },
        "id": "_9uZdogCSS7p",
        "outputId": "fd453e11-182d-405b-b251-8d82e4f739e5"
      },
      "outputs": [
        {
          "output_type": "display_data",
          "data": {
            "text/html": [
              "2"
            ],
            "text/markdown": "2",
            "text/latex": "2",
            "text/plain": [
              "[1] 2"
            ]
          },
          "metadata": {}
        }
      ],
      "source": [
        "X[1,2]"
      ]
    },
    {
      "cell_type": "code",
      "execution_count": null,
      "metadata": {
        "colab": {
          "base_uri": "https://localhost:8080/",
          "height": 209
        },
        "id": "3xknexnbSS7p",
        "outputId": "d7331111-a350-44c8-9f79-7544371459bd"
      },
      "outputs": [
        {
          "output_type": "display_data",
          "data": {
            "text/html": [
              "<table class=\"dataframe\">\n",
              "<caption>A matrix: 5 × 5 of type dbl</caption>\n",
              "<tbody>\n",
              "\t<tr><td> 1</td><td> 3</td><td> 3</td><td> 4</td><td> 5</td></tr>\n",
              "\t<tr><td> 6</td><td> 7</td><td> 8</td><td> 9</td><td>10</td></tr>\n",
              "\t<tr><td>11</td><td>12</td><td>13</td><td>14</td><td>15</td></tr>\n",
              "\t<tr><td>16</td><td>17</td><td>18</td><td>19</td><td>20</td></tr>\n",
              "\t<tr><td>21</td><td>22</td><td>23</td><td>24</td><td>25</td></tr>\n",
              "</tbody>\n",
              "</table>\n"
            ],
            "text/markdown": "\nA matrix: 5 × 5 of type dbl\n\n|  1 |  3 |  3 |  4 |  5 |\n|  6 |  7 |  8 |  9 | 10 |\n| 11 | 12 | 13 | 14 | 15 |\n| 16 | 17 | 18 | 19 | 20 |\n| 21 | 22 | 23 | 24 | 25 |\n\n",
            "text/latex": "A matrix: 5 × 5 of type dbl\n\\begin{tabular}{lllll}\n\t  1 &  3 &  3 &  4 &  5\\\\\n\t  6 &  7 &  8 &  9 & 10\\\\\n\t 11 & 12 & 13 & 14 & 15\\\\\n\t 16 & 17 & 18 & 19 & 20\\\\\n\t 21 & 22 & 23 & 24 & 25\\\\\n\\end{tabular}\n",
            "text/plain": [
              "     [,1] [,2] [,3] [,4] [,5]\n",
              "[1,]  1    3    3    4    5  \n",
              "[2,]  6    7    8    9   10  \n",
              "[3,] 11   12   13   14   15  \n",
              "[4,] 16   17   18   19   20  \n",
              "[5,] 21   22   23   24   25  "
            ]
          },
          "metadata": {}
        }
      ],
      "source": [
        "X[1,2] <- 3\n",
        "X"
      ]
    },
    {
      "cell_type": "markdown",
      "metadata": {
        "id": "sx1CrdRUSS7p"
      },
      "source": [
        "or entire rows/columns as follows"
      ]
    },
    {
      "cell_type": "code",
      "execution_count": null,
      "metadata": {
        "colab": {
          "base_uri": "https://localhost:8080/",
          "height": 34
        },
        "id": "13OTbt4kSS7q",
        "outputId": "fa242164-e9d2-4432-8595-2b596837e9d6"
      },
      "outputs": [
        {
          "output_type": "display_data",
          "data": {
            "text/html": [
              "<style>\n",
              ".list-inline {list-style: none; margin:0; padding: 0}\n",
              ".list-inline>li {display: inline-block}\n",
              ".list-inline>li:not(:last-child)::after {content: \"\\00b7\"; padding: 0 .5ex}\n",
              "</style>\n",
              "<ol class=list-inline><li>1</li><li>6</li><li>11</li><li>16</li><li>21</li></ol>\n"
            ],
            "text/markdown": "1. 1\n2. 6\n3. 11\n4. 16\n5. 21\n\n\n",
            "text/latex": "\\begin{enumerate*}\n\\item 1\n\\item 6\n\\item 11\n\\item 16\n\\item 21\n\\end{enumerate*}\n",
            "text/plain": [
              "[1]  1  6 11 16 21"
            ]
          },
          "metadata": {}
        }
      ],
      "source": [
        "X[,1]"
      ]
    },
    {
      "cell_type": "code",
      "execution_count": null,
      "metadata": {
        "colab": {
          "base_uri": "https://localhost:8080/",
          "height": 34
        },
        "id": "zBgFb7MxSS7q",
        "outputId": "e07d7797-bbc5-40c2-9d46-671873bdbae3"
      },
      "outputs": [
        {
          "output_type": "display_data",
          "data": {
            "text/html": [
              "<style>\n",
              ".list-inline {list-style: none; margin:0; padding: 0}\n",
              ".list-inline>li {display: inline-block}\n",
              ".list-inline>li:not(:last-child)::after {content: \"\\00b7\"; padding: 0 .5ex}\n",
              "</style>\n",
              "<ol class=list-inline><li>1</li><li>3</li><li>3</li><li>4</li><li>5</li></ol>\n"
            ],
            "text/markdown": "1. 1\n2. 3\n3. 3\n4. 4\n5. 5\n\n\n",
            "text/latex": "\\begin{enumerate*}\n\\item 1\n\\item 3\n\\item 3\n\\item 4\n\\item 5\n\\end{enumerate*}\n",
            "text/plain": [
              "[1] 1 3 3 4 5"
            ]
          },
          "metadata": {}
        }
      ],
      "source": [
        "X[1,]"
      ]
    },
    {
      "cell_type": "markdown",
      "metadata": {
        "id": "eYPK5147SS7q"
      },
      "source": [
        "# Flow Control"
      ]
    },
    {
      "cell_type": "markdown",
      "metadata": {
        "id": "mnRIpkhSSS7q"
      },
      "source": [
        "if statements are as follows"
      ]
    },
    {
      "cell_type": "code",
      "execution_count": null,
      "metadata": {
        "colab": {
          "base_uri": "https://localhost:8080/"
        },
        "id": "jq0mfbqJSS7q",
        "outputId": "3713f44e-7c1d-4fec-c46f-f95e8ffa8e18"
      },
      "outputs": [
        {
          "output_type": "stream",
          "name": "stdout",
          "text": [
            "[1] \"A is not 0, 1 or 2\"\n"
          ]
        }
      ],
      "source": [
        "A = 5\n",
        "if(A==0){\n",
        "    print(\"A=0\")\n",
        "} else if(A == 1){\n",
        "    print(\"A=1\")\n",
        "} else if(A==2) {\n",
        "    print(\"A=2\")\n",
        "} else {\n",
        "    print(\"A is not 0, 1 or 2\")\n",
        "}"
      ]
    },
    {
      "cell_type": "markdown",
      "metadata": {
        "id": "k-BMzKO3SS7r"
      },
      "source": [
        "we can also make `for` loops"
      ]
    },
    {
      "cell_type": "code",
      "execution_count": null,
      "metadata": {
        "colab": {
          "base_uri": "https://localhost:8080/"
        },
        "id": "9UDn1rRySS7r",
        "outputId": "5fc69c2e-4560-4dce-b59b-c178974b8e6b"
      },
      "outputs": [
        {
          "output_type": "stream",
          "name": "stdout",
          "text": [
            "[1] 1\n",
            "[1] 2\n",
            "[1] 3\n",
            "[1] 4\n",
            "[1] 5\n",
            "[1] 6\n",
            "[1] 7\n",
            "[1] 8\n",
            "[1] 9\n",
            "[1] 10\n"
          ]
        }
      ],
      "source": [
        "for(i in 1:10){\n",
        "    print(i)\n",
        "}"
      ]
    },
    {
      "cell_type": "markdown",
      "metadata": {
        "id": "d8FI2_OCSS7s"
      },
      "source": [
        "and `while` loops"
      ]
    },
    {
      "cell_type": "code",
      "execution_count": null,
      "metadata": {
        "colab": {
          "base_uri": "https://localhost:8080/"
        },
        "id": "37uxs0vCSS7s",
        "outputId": "736bd123-8368-4a9e-cda9-9433a675a4e6"
      },
      "outputs": [
        {
          "output_type": "stream",
          "name": "stdout",
          "text": [
            "[1] 1\n",
            "[1] 2\n",
            "[1] 3\n",
            "[1] 4\n",
            "[1] 5\n",
            "[1] 6\n",
            "[1] 7\n",
            "[1] 8\n",
            "[1] 9\n",
            "[1] 10\n"
          ]
        }
      ],
      "source": [
        "i = 1\n",
        "while(i <= 10){\n",
        "    print(i)\n",
        "    i = i + 1\n",
        "}"
      ]
    },
    {
      "cell_type": "markdown",
      "metadata": {
        "id": "-ZDP8kouSS7s"
      },
      "source": [
        "# major types"
      ]
    },
    {
      "cell_type": "markdown",
      "metadata": {
        "id": "-OpjkWr8SS7s"
      },
      "source": [
        "numeric"
      ]
    },
    {
      "cell_type": "code",
      "execution_count": null,
      "metadata": {
        "colab": {
          "base_uri": "https://localhost:8080/",
          "height": 34
        },
        "id": "zJeXu36OSS7t",
        "outputId": "cd0610d0-033b-4dda-f4d1-4d1102bb2cb1"
      },
      "outputs": [
        {
          "output_type": "display_data",
          "data": {
            "text/html": [
              "<style>\n",
              ".list-inline {list-style: none; margin:0; padding: 0}\n",
              ".list-inline>li {display: inline-block}\n",
              ".list-inline>li:not(:last-child)::after {content: \"\\00b7\"; padding: 0 .5ex}\n",
              "</style>\n",
              "<ol class=list-inline><li>1</li><li>2</li><li>3</li></ol>\n"
            ],
            "text/markdown": "1. 1\n2. 2\n3. 3\n\n\n",
            "text/latex": "\\begin{enumerate*}\n\\item 1\n\\item 2\n\\item 3\n\\end{enumerate*}\n",
            "text/plain": [
              "[1] 1 2 3"
            ]
          },
          "metadata": {}
        }
      ],
      "source": [
        "c(1,2,3)"
      ]
    },
    {
      "cell_type": "code",
      "execution_count": null,
      "metadata": {
        "colab": {
          "base_uri": "https://localhost:8080/",
          "height": 34
        },
        "id": "sLcL2GZRSS7t",
        "outputId": "e8967ac0-33ba-47a1-bec5-665cff910baa"
      },
      "outputs": [
        {
          "output_type": "display_data",
          "data": {
            "text/html": [
              "'numeric'"
            ],
            "text/markdown": "'numeric'",
            "text/latex": "'numeric'",
            "text/plain": [
              "[1] \"numeric\""
            ]
          },
          "metadata": {}
        }
      ],
      "source": [
        "class(c(1,2,3))"
      ]
    },
    {
      "cell_type": "markdown",
      "metadata": {
        "id": "7kOrxwE5SS7t"
      },
      "source": [
        "strings"
      ]
    },
    {
      "cell_type": "code",
      "execution_count": null,
      "metadata": {
        "colab": {
          "base_uri": "https://localhost:8080/",
          "height": 34
        },
        "id": "JCmq5O9jSS7t",
        "outputId": "f66f1d31-bcde-4d38-d34c-1882879353bc"
      },
      "outputs": [
        {
          "output_type": "display_data",
          "data": {
            "text/html": [
              "<style>\n",
              ".list-inline {list-style: none; margin:0; padding: 0}\n",
              ".list-inline>li {display: inline-block}\n",
              ".list-inline>li:not(:last-child)::after {content: \"\\00b7\"; padding: 0 .5ex}\n",
              "</style>\n",
              "<ol class=list-inline><li>'hello'</li><li>'darkness'</li><li>'my'</li><li>'old'</li><li>'friend'</li></ol>\n"
            ],
            "text/markdown": "1. 'hello'\n2. 'darkness'\n3. 'my'\n4. 'old'\n5. 'friend'\n\n\n",
            "text/latex": "\\begin{enumerate*}\n\\item 'hello'\n\\item 'darkness'\n\\item 'my'\n\\item 'old'\n\\item 'friend'\n\\end{enumerate*}\n",
            "text/plain": [
              "[1] \"hello\"    \"darkness\" \"my\"       \"old\"      \"friend\"  "
            ]
          },
          "metadata": {}
        }
      ],
      "source": [
        "c('hello','darkness','my','old','friend')"
      ]
    },
    {
      "cell_type": "code",
      "execution_count": null,
      "metadata": {
        "colab": {
          "base_uri": "https://localhost:8080/",
          "height": 34
        },
        "id": "XKzHS8duSS7u",
        "outputId": "8ac4e489-2237-4511-abc2-d0f31121b76e"
      },
      "outputs": [
        {
          "output_type": "display_data",
          "data": {
            "text/html": [
              "'character'"
            ],
            "text/markdown": "'character'",
            "text/latex": "'character'",
            "text/plain": [
              "[1] \"character\""
            ]
          },
          "metadata": {}
        }
      ],
      "source": [
        "class(c('hello','darkness','my','old','friend'))"
      ]
    },
    {
      "cell_type": "markdown",
      "metadata": {
        "id": "enVxZe0-SS7u"
      },
      "source": [
        "boolean"
      ]
    },
    {
      "cell_type": "code",
      "execution_count": null,
      "metadata": {
        "colab": {
          "base_uri": "https://localhost:8080/",
          "height": 34
        },
        "id": "-5RnnCF1SS7u",
        "outputId": "5c5412c8-e20c-44f5-b92a-0e50f15f7e75"
      },
      "outputs": [
        {
          "output_type": "display_data",
          "data": {
            "text/html": [
              "<style>\n",
              ".list-inline {list-style: none; margin:0; padding: 0}\n",
              ".list-inline>li {display: inline-block}\n",
              ".list-inline>li:not(:last-child)::after {content: \"\\00b7\"; padding: 0 .5ex}\n",
              "</style>\n",
              "<ol class=list-inline><li>TRUE</li><li>FALSE</li></ol>\n"
            ],
            "text/markdown": "1. TRUE\n2. FALSE\n\n\n",
            "text/latex": "\\begin{enumerate*}\n\\item TRUE\n\\item FALSE\n\\end{enumerate*}\n",
            "text/plain": [
              "[1]  TRUE FALSE"
            ]
          },
          "metadata": {}
        }
      ],
      "source": [
        "c(TRUE,FALSE)"
      ]
    },
    {
      "cell_type": "code",
      "execution_count": null,
      "metadata": {
        "colab": {
          "base_uri": "https://localhost:8080/",
          "height": 34
        },
        "id": "SYhd5QibSS7u",
        "outputId": "b3910707-7882-48d8-8364-30a3083c7791"
      },
      "outputs": [
        {
          "output_type": "display_data",
          "data": {
            "text/html": [
              "'logical'"
            ],
            "text/markdown": "'logical'",
            "text/latex": "'logical'",
            "text/plain": [
              "[1] \"logical\""
            ]
          },
          "metadata": {}
        }
      ],
      "source": [
        "class(c(TRUE,FALSE))"
      ]
    },
    {
      "cell_type": "markdown",
      "metadata": {
        "id": "hLZ8O6dASS7u"
      },
      "source": [
        "factors for discrete variables"
      ]
    },
    {
      "cell_type": "code",
      "execution_count": null,
      "metadata": {
        "id": "s9mr2QCjSS7v"
      },
      "outputs": [],
      "source": [
        "fctr = as.factor(c('hello','darkness'))"
      ]
    },
    {
      "cell_type": "code",
      "execution_count": null,
      "metadata": {
        "colab": {
          "base_uri": "https://localhost:8080/",
          "height": 52
        },
        "id": "c6fDHydjSS7v",
        "outputId": "f84563a0-6366-49b0-ba2e-43cf920d1780"
      },
      "outputs": [
        {
          "output_type": "display_data",
          "data": {
            "text/html": [
              "<style>\n",
              ".list-inline {list-style: none; margin:0; padding: 0}\n",
              ".list-inline>li {display: inline-block}\n",
              ".list-inline>li:not(:last-child)::after {content: \"\\00b7\"; padding: 0 .5ex}\n",
              "</style>\n",
              "<ol class=list-inline><li>hello</li><li>darkness</li></ol>\n",
              "\n",
              "<details>\n",
              "\t<summary style=display:list-item;cursor:pointer>\n",
              "\t\t<strong>Levels</strong>:\n",
              "\t</summary>\n",
              "\t<style>\n",
              "\t.list-inline {list-style: none; margin:0; padding: 0}\n",
              "\t.list-inline>li {display: inline-block}\n",
              "\t.list-inline>li:not(:last-child)::after {content: \"\\00b7\"; padding: 0 .5ex}\n",
              "\t</style>\n",
              "\t<ol class=list-inline><li>'darkness'</li><li>'hello'</li></ol>\n",
              "</details>"
            ],
            "text/markdown": "1. hello\n2. darkness\n\n\n\n**Levels**: 1. 'darkness'\n2. 'hello'\n\n\n",
            "text/latex": "\\begin{enumerate*}\n\\item hello\n\\item darkness\n\\end{enumerate*}\n\n\\emph{Levels}: \\begin{enumerate*}\n\\item 'darkness'\n\\item 'hello'\n\\end{enumerate*}\n",
            "text/plain": [
              "[1] hello    darkness\n",
              "Levels: darkness hello"
            ]
          },
          "metadata": {}
        }
      ],
      "source": [
        "fctr"
      ]
    },
    {
      "cell_type": "code",
      "execution_count": null,
      "metadata": {
        "colab": {
          "base_uri": "https://localhost:8080/",
          "height": 34
        },
        "id": "xNqs64NHSS7v",
        "outputId": "b5862edb-6b66-4b46-e1df-4680d5fa4fb0"
      },
      "outputs": [
        {
          "output_type": "display_data",
          "data": {
            "text/html": [
              "'factor'"
            ],
            "text/markdown": "'factor'",
            "text/latex": "'factor'",
            "text/plain": [
              "[1] \"factor\""
            ]
          },
          "metadata": {}
        }
      ],
      "source": [
        "class(fctr)"
      ]
    },
    {
      "cell_type": "code",
      "execution_count": null,
      "metadata": {
        "colab": {
          "base_uri": "https://localhost:8080/",
          "height": 34
        },
        "id": "o5ss9UiGSS7v",
        "outputId": "737051fc-755f-4d9f-b12f-98b37a7175a7"
      },
      "outputs": [
        {
          "output_type": "display_data",
          "data": {
            "text/html": [
              "<style>\n",
              ".list-inline {list-style: none; margin:0; padding: 0}\n",
              ".list-inline>li {display: inline-block}\n",
              ".list-inline>li:not(:last-child)::after {content: \"\\00b7\"; padding: 0 .5ex}\n",
              "</style>\n",
              "<ol class=list-inline><li>2</li><li>1</li></ol>\n"
            ],
            "text/markdown": "1. 2\n2. 1\n\n\n",
            "text/latex": "\\begin{enumerate*}\n\\item 2\n\\item 1\n\\end{enumerate*}\n",
            "text/plain": [
              "[1] 2 1"
            ]
          },
          "metadata": {}
        }
      ],
      "source": [
        "as.numeric(fctr)"
      ]
    },
    {
      "cell_type": "code",
      "execution_count": null,
      "metadata": {
        "colab": {
          "base_uri": "https://localhost:8080/",
          "height": 69
        },
        "id": "LuYhgiSqSS7w",
        "outputId": "851cfabc-4c73-4913-c2c3-b21d8b999c11"
      },
      "outputs": [
        {
          "output_type": "stream",
          "name": "stderr",
          "text": [
            "Warning message in Ops.factor(fctr, 2):\n",
            "“‘*’ not meaningful for factors”\n"
          ]
        },
        {
          "output_type": "display_data",
          "data": {
            "text/html": [
              "<style>\n",
              ".list-inline {list-style: none; margin:0; padding: 0}\n",
              ".list-inline>li {display: inline-block}\n",
              ".list-inline>li:not(:last-child)::after {content: \"\\00b7\"; padding: 0 .5ex}\n",
              "</style>\n",
              "<ol class=list-inline><li>&lt;NA&gt;</li><li>&lt;NA&gt;</li></ol>\n"
            ],
            "text/markdown": "1. &lt;NA&gt;\n2. &lt;NA&gt;\n\n\n",
            "text/latex": "\\begin{enumerate*}\n\\item <NA>\n\\item <NA>\n\\end{enumerate*}\n",
            "text/plain": [
              "[1] NA NA"
            ]
          },
          "metadata": {}
        }
      ],
      "source": [
        "fctr*2"
      ]
    },
    {
      "cell_type": "markdown",
      "metadata": {
        "id": "Y4tprnuqSS7w"
      },
      "source": [
        "# data-frames and matrices:"
      ]
    },
    {
      "cell_type": "markdown",
      "metadata": {
        "id": "ifYlix75SS7w"
      },
      "source": [
        "matrcies all have to be the same type:"
      ]
    },
    {
      "cell_type": "code",
      "execution_count": null,
      "metadata": {
        "colab": {
          "base_uri": "https://localhost:8080/",
          "height": 209
        },
        "id": "fHBpRtmOSS7w",
        "outputId": "6120fef5-00fc-4a8f-d51f-23e17928cef7"
      },
      "outputs": [
        {
          "output_type": "display_data",
          "data": {
            "text/html": [
              "<table class=\"dataframe\">\n",
              "<caption>A matrix: 5 × 5 of type dbl</caption>\n",
              "<tbody>\n",
              "\t<tr><td>0</td><td>0</td><td>0</td><td>0</td><td>0</td></tr>\n",
              "\t<tr><td>0</td><td>0</td><td>0</td><td>0</td><td>0</td></tr>\n",
              "\t<tr><td>0</td><td>0</td><td>0</td><td>0</td><td>0</td></tr>\n",
              "\t<tr><td>0</td><td>0</td><td>0</td><td>0</td><td>0</td></tr>\n",
              "\t<tr><td>0</td><td>0</td><td>0</td><td>0</td><td>0</td></tr>\n",
              "</tbody>\n",
              "</table>\n"
            ],
            "text/markdown": "\nA matrix: 5 × 5 of type dbl\n\n| 0 | 0 | 0 | 0 | 0 |\n| 0 | 0 | 0 | 0 | 0 |\n| 0 | 0 | 0 | 0 | 0 |\n| 0 | 0 | 0 | 0 | 0 |\n| 0 | 0 | 0 | 0 | 0 |\n\n",
            "text/latex": "A matrix: 5 × 5 of type dbl\n\\begin{tabular}{lllll}\n\t 0 & 0 & 0 & 0 & 0\\\\\n\t 0 & 0 & 0 & 0 & 0\\\\\n\t 0 & 0 & 0 & 0 & 0\\\\\n\t 0 & 0 & 0 & 0 & 0\\\\\n\t 0 & 0 & 0 & 0 & 0\\\\\n\\end{tabular}\n",
            "text/plain": [
              "     [,1] [,2] [,3] [,4] [,5]\n",
              "[1,] 0    0    0    0    0   \n",
              "[2,] 0    0    0    0    0   \n",
              "[3,] 0    0    0    0    0   \n",
              "[4,] 0    0    0    0    0   \n",
              "[5,] 0    0    0    0    0   "
            ]
          },
          "metadata": {}
        }
      ],
      "source": [
        "X = array(0,c(5,5))\n",
        "X"
      ]
    },
    {
      "cell_type": "code",
      "execution_count": null,
      "metadata": {
        "colab": {
          "base_uri": "https://localhost:8080/",
          "height": 209
        },
        "id": "gVfMccuzSS7w",
        "outputId": "0364334e-2df0-41b6-c6b1-af1e788b76a7"
      },
      "outputs": [
        {
          "output_type": "display_data",
          "data": {
            "text/html": [
              "<table class=\"dataframe\">\n",
              "<caption>A matrix: 5 × 5 of type chr</caption>\n",
              "<tbody>\n",
              "\t<tr><td>A</td><td>F</td><td>K</td><td>P</td><td>U</td></tr>\n",
              "\t<tr><td>B</td><td>G</td><td>L</td><td>Q</td><td>V</td></tr>\n",
              "\t<tr><td>C</td><td>H</td><td>M</td><td>R</td><td>W</td></tr>\n",
              "\t<tr><td>D</td><td>I</td><td>N</td><td>S</td><td>X</td></tr>\n",
              "\t<tr><td>E</td><td>J</td><td>O</td><td>T</td><td>Y</td></tr>\n",
              "</tbody>\n",
              "</table>\n"
            ],
            "text/markdown": "\nA matrix: 5 × 5 of type chr\n\n| A | F | K | P | U |\n| B | G | L | Q | V |\n| C | H | M | R | W |\n| D | I | N | S | X |\n| E | J | O | T | Y |\n\n",
            "text/latex": "A matrix: 5 × 5 of type chr\n\\begin{tabular}{lllll}\n\t A & F & K & P & U\\\\\n\t B & G & L & Q & V\\\\\n\t C & H & M & R & W\\\\\n\t D & I & N & S & X\\\\\n\t E & J & O & T & Y\\\\\n\\end{tabular}\n",
            "text/plain": [
              "     [,1] [,2] [,3] [,4] [,5]\n",
              "[1,] A    F    K    P    U   \n",
              "[2,] B    G    L    Q    V   \n",
              "[3,] C    H    M    R    W   \n",
              "[4,] D    I    N    S    X   \n",
              "[5,] E    J    O    T    Y   "
            ]
          },
          "metadata": {}
        }
      ],
      "source": [
        "X = array(LETTERS[1:25],c(5,5))\n",
        "X"
      ]
    },
    {
      "cell_type": "markdown",
      "metadata": {
        "id": "xH2kiW8kSS7x"
      },
      "source": [
        "so if I have a character `X` and I assign the number `5` to the first column, what happens?"
      ]
    },
    {
      "cell_type": "code",
      "execution_count": null,
      "metadata": {
        "id": "zF_WqYAOSS7x"
      },
      "outputs": [],
      "source": [
        "X[,1] = rep(5,5)"
      ]
    },
    {
      "cell_type": "code",
      "execution_count": null,
      "metadata": {
        "colab": {
          "base_uri": "https://localhost:8080/",
          "height": 209
        },
        "id": "THYG71uBSS7x",
        "outputId": "bf4f4860-a541-419e-99d1-5f8fcec95d0c"
      },
      "outputs": [
        {
          "output_type": "display_data",
          "data": {
            "text/html": [
              "<table class=\"dataframe\">\n",
              "<caption>A matrix: 5 × 5 of type chr</caption>\n",
              "<tbody>\n",
              "\t<tr><td>5</td><td>F</td><td>K</td><td>P</td><td>U</td></tr>\n",
              "\t<tr><td>5</td><td>G</td><td>L</td><td>Q</td><td>V</td></tr>\n",
              "\t<tr><td>5</td><td>H</td><td>M</td><td>R</td><td>W</td></tr>\n",
              "\t<tr><td>5</td><td>I</td><td>N</td><td>S</td><td>X</td></tr>\n",
              "\t<tr><td>5</td><td>J</td><td>O</td><td>T</td><td>Y</td></tr>\n",
              "</tbody>\n",
              "</table>\n"
            ],
            "text/markdown": "\nA matrix: 5 × 5 of type chr\n\n| 5 | F | K | P | U |\n| 5 | G | L | Q | V |\n| 5 | H | M | R | W |\n| 5 | I | N | S | X |\n| 5 | J | O | T | Y |\n\n",
            "text/latex": "A matrix: 5 × 5 of type chr\n\\begin{tabular}{lllll}\n\t 5 & F & K & P & U\\\\\n\t 5 & G & L & Q & V\\\\\n\t 5 & H & M & R & W\\\\\n\t 5 & I & N & S & X\\\\\n\t 5 & J & O & T & Y\\\\\n\\end{tabular}\n",
            "text/plain": [
              "     [,1] [,2] [,3] [,4] [,5]\n",
              "[1,] 5    F    K    P    U   \n",
              "[2,] 5    G    L    Q    V   \n",
              "[3,] 5    H    M    R    W   \n",
              "[4,] 5    I    N    S    X   \n",
              "[5,] 5    J    O    T    Y   "
            ]
          },
          "metadata": {}
        }
      ],
      "source": [
        "X"
      ]
    },
    {
      "cell_type": "code",
      "execution_count": null,
      "metadata": {
        "colab": {
          "base_uri": "https://localhost:8080/",
          "height": 34
        },
        "id": "aiBrGkrtSS7x",
        "outputId": "9a5e40fc-530a-46d0-cf6c-92536abb00b5"
      },
      "outputs": [
        {
          "output_type": "display_data",
          "data": {
            "text/html": [
              "<style>\n",
              ".list-inline {list-style: none; margin:0; padding: 0}\n",
              ".list-inline>li {display: inline-block}\n",
              ".list-inline>li:not(:last-child)::after {content: \"\\00b7\"; padding: 0 .5ex}\n",
              "</style>\n",
              "<ol class=list-inline><li>'5'</li><li>'5'</li><li>'5'</li><li>'5'</li><li>'5'</li></ol>\n"
            ],
            "text/markdown": "1. '5'\n2. '5'\n3. '5'\n4. '5'\n5. '5'\n\n\n",
            "text/latex": "\\begin{enumerate*}\n\\item '5'\n\\item '5'\n\\item '5'\n\\item '5'\n\\item '5'\n\\end{enumerate*}\n",
            "text/plain": [
              "[1] \"5\" \"5\" \"5\" \"5\" \"5\""
            ]
          },
          "metadata": {}
        }
      ],
      "source": [
        "X[,1]"
      ]
    },
    {
      "cell_type": "markdown",
      "metadata": {
        "id": "A2oXWD3vSS7y"
      },
      "source": [
        "this is not the number `5`, its the character `'5'`"
      ]
    },
    {
      "cell_type": "markdown",
      "metadata": {
        "id": "aHpxwG_mSS7y"
      },
      "source": [
        "The proper way to have mixed types is to have a `data.frame`"
      ]
    },
    {
      "cell_type": "code",
      "execution_count": null,
      "metadata": {
        "colab": {
          "base_uri": "https://localhost:8080/",
          "height": 272
        },
        "id": "slqsaRZ8SS7y",
        "outputId": "46cd1388-bffd-4fd2-8638-c6920e0f2c35"
      },
      "outputs": [
        {
          "output_type": "display_data",
          "data": {
            "text/html": [
              "<table class=\"dataframe\">\n",
              "<caption>A data.frame: 5 × 2</caption>\n",
              "<thead>\n",
              "\t<tr><th scope=col>x</th><th scope=col>y</th></tr>\n",
              "\t<tr><th scope=col>&lt;dbl&gt;</th><th scope=col>&lt;chr&gt;</th></tr>\n",
              "</thead>\n",
              "<tbody>\n",
              "\t<tr><td>5</td><td>A</td></tr>\n",
              "\t<tr><td>5</td><td>B</td></tr>\n",
              "\t<tr><td>5</td><td>C</td></tr>\n",
              "\t<tr><td>5</td><td>D</td></tr>\n",
              "\t<tr><td>5</td><td>E</td></tr>\n",
              "</tbody>\n",
              "</table>\n"
            ],
            "text/markdown": "\nA data.frame: 5 × 2\n\n| x &lt;dbl&gt; | y &lt;chr&gt; |\n|---|---|\n| 5 | A |\n| 5 | B |\n| 5 | C |\n| 5 | D |\n| 5 | E |\n\n",
            "text/latex": "A data.frame: 5 × 2\n\\begin{tabular}{ll}\n x & y\\\\\n <dbl> & <chr>\\\\\n\\hline\n\t 5 & A\\\\\n\t 5 & B\\\\\n\t 5 & C\\\\\n\t 5 & D\\\\\n\t 5 & E\\\\\n\\end{tabular}\n",
            "text/plain": [
              "  x y\n",
              "1 5 A\n",
              "2 5 B\n",
              "3 5 C\n",
              "4 5 D\n",
              "5 5 E"
            ]
          },
          "metadata": {}
        }
      ],
      "source": [
        "df = data.frame(x=rep(5,5),y=LETTERS[1:5])\n",
        "df"
      ]
    },
    {
      "cell_type": "markdown",
      "metadata": {
        "id": "BjEPH-ToSS7y"
      },
      "source": [
        "I can access the elements like matrices"
      ]
    },
    {
      "cell_type": "code",
      "execution_count": null,
      "metadata": {
        "colab": {
          "base_uri": "https://localhost:8080/",
          "height": 34
        },
        "id": "ZEnbJQXmSS7y",
        "outputId": "a34c0d52-0d5a-4926-8578-9c6e818cd9ab"
      },
      "outputs": [
        {
          "output_type": "display_data",
          "data": {
            "text/html": [
              "5"
            ],
            "text/markdown": "5",
            "text/latex": "5",
            "text/plain": [
              "[1] 5"
            ]
          },
          "metadata": {}
        }
      ],
      "source": [
        "df[1,1]"
      ]
    },
    {
      "cell_type": "code",
      "execution_count": null,
      "metadata": {
        "colab": {
          "base_uri": "https://localhost:8080/",
          "height": 34
        },
        "id": "ODv18h8LSS7y",
        "outputId": "07988abb-5e37-44dc-b33d-72ff689730f8"
      },
      "outputs": [
        {
          "output_type": "display_data",
          "data": {
            "text/html": [
              "'A'"
            ],
            "text/markdown": "'A'",
            "text/latex": "'A'",
            "text/plain": [
              "[1] \"A\""
            ]
          },
          "metadata": {}
        }
      ],
      "source": [
        "df[1,2]"
      ]
    },
    {
      "cell_type": "markdown",
      "metadata": {
        "id": "6EOaxVmmSS7y"
      },
      "source": [
        "or with names"
      ]
    },
    {
      "cell_type": "code",
      "execution_count": null,
      "metadata": {
        "colab": {
          "base_uri": "https://localhost:8080/",
          "height": 34
        },
        "id": "eM7FHAaGSS7y",
        "outputId": "54c7fcaf-4c78-4ec1-942e-00cfd9790cd6"
      },
      "outputs": [
        {
          "output_type": "display_data",
          "data": {
            "text/html": [
              "<style>\n",
              ".list-inline {list-style: none; margin:0; padding: 0}\n",
              ".list-inline>li {display: inline-block}\n",
              ".list-inline>li:not(:last-child)::after {content: \"\\00b7\"; padding: 0 .5ex}\n",
              "</style>\n",
              "<ol class=list-inline><li>5</li><li>5</li><li>5</li><li>5</li><li>5</li></ol>\n"
            ],
            "text/markdown": "1. 5\n2. 5\n3. 5\n4. 5\n5. 5\n\n\n",
            "text/latex": "\\begin{enumerate*}\n\\item 5\n\\item 5\n\\item 5\n\\item 5\n\\item 5\n\\end{enumerate*}\n",
            "text/plain": [
              "[1] 5 5 5 5 5"
            ]
          },
          "metadata": {}
        }
      ],
      "source": [
        "df$x"
      ]
    },
    {
      "cell_type": "code",
      "execution_count": null,
      "metadata": {
        "colab": {
          "base_uri": "https://localhost:8080/",
          "height": 34
        },
        "id": "ncUS4SYcSS7z",
        "outputId": "e55cce4c-4d94-4429-908b-3bf7b414921a"
      },
      "outputs": [
        {
          "output_type": "display_data",
          "data": {
            "text/html": [
              "<style>\n",
              ".list-inline {list-style: none; margin:0; padding: 0}\n",
              ".list-inline>li {display: inline-block}\n",
              ".list-inline>li:not(:last-child)::after {content: \"\\00b7\"; padding: 0 .5ex}\n",
              "</style>\n",
              "<ol class=list-inline><li>'A'</li><li>'B'</li><li>'C'</li><li>'D'</li><li>'E'</li></ol>\n"
            ],
            "text/markdown": "1. 'A'\n2. 'B'\n3. 'C'\n4. 'D'\n5. 'E'\n\n\n",
            "text/latex": "\\begin{enumerate*}\n\\item 'A'\n\\item 'B'\n\\item 'C'\n\\item 'D'\n\\item 'E'\n\\end{enumerate*}\n",
            "text/plain": [
              "[1] \"A\" \"B\" \"C\" \"D\" \"E\""
            ]
          },
          "metadata": {}
        }
      ],
      "source": [
        "df$y"
      ]
    },
    {
      "cell_type": "code",
      "execution_count": null,
      "metadata": {
        "colab": {
          "base_uri": "https://localhost:8080/",
          "height": 34
        },
        "id": "CK6Vey69SS7z",
        "outputId": "01aac9ee-d495-447f-ca32-3d1dd29e95ed"
      },
      "outputs": [
        {
          "output_type": "display_data",
          "data": {
            "text/html": [
              "<style>\n",
              ".list-inline {list-style: none; margin:0; padding: 0}\n",
              ".list-inline>li {display: inline-block}\n",
              ".list-inline>li:not(:last-child)::after {content: \"\\00b7\"; padding: 0 .5ex}\n",
              "</style>\n",
              "<ol class=list-inline><li>5</li><li>5</li><li>5</li><li>5</li><li>5</li></ol>\n"
            ],
            "text/markdown": "1. 5\n2. 5\n3. 5\n4. 5\n5. 5\n\n\n",
            "text/latex": "\\begin{enumerate*}\n\\item 5\n\\item 5\n\\item 5\n\\item 5\n\\item 5\n\\end{enumerate*}\n",
            "text/plain": [
              "[1] 5 5 5 5 5"
            ]
          },
          "metadata": {}
        }
      ],
      "source": [
        "df[['x']]"
      ]
    },
    {
      "cell_type": "code",
      "execution_count": null,
      "metadata": {
        "colab": {
          "base_uri": "https://localhost:8080/",
          "height": 34
        },
        "id": "BZffrCm8SS7z",
        "outputId": "1fa63e23-c9b5-4bf1-88f8-792d3cc79348"
      },
      "outputs": [
        {
          "output_type": "display_data",
          "data": {
            "text/html": [
              "<style>\n",
              ".list-inline {list-style: none; margin:0; padding: 0}\n",
              ".list-inline>li {display: inline-block}\n",
              ".list-inline>li:not(:last-child)::after {content: \"\\00b7\"; padding: 0 .5ex}\n",
              "</style>\n",
              "<ol class=list-inline><li>'A'</li><li>'B'</li><li>'C'</li><li>'D'</li><li>'E'</li></ol>\n"
            ],
            "text/markdown": "1. 'A'\n2. 'B'\n3. 'C'\n4. 'D'\n5. 'E'\n\n\n",
            "text/latex": "\\begin{enumerate*}\n\\item 'A'\n\\item 'B'\n\\item 'C'\n\\item 'D'\n\\item 'E'\n\\end{enumerate*}\n",
            "text/plain": [
              "[1] \"A\" \"B\" \"C\" \"D\" \"E\""
            ]
          },
          "metadata": {}
        }
      ],
      "source": [
        "df[['y']]"
      ]
    }
  ],
  "metadata": {
    "jupytext": {
      "formats": "ipynb,Rmd,R"
    },
    "kernelspec": {
      "display_name": "R",
      "language": "R",
      "name": "ir"
    },
    "language_info": {
      "codemirror_mode": "r",
      "file_extension": ".r",
      "mimetype": "text/x-r-source",
      "name": "R",
      "pygments_lexer": "r",
      "version": "4.0.3"
    },
    "colab": {
      "provenance": [],
      "include_colab_link": true
    }
  },
  "nbformat": 4,
  "nbformat_minor": 0
}